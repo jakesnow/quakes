{
 "cells": [
  {
   "cell_type": "markdown",
   "metadata": {},
   "source": [
    "# Diablo CA Earthquake Analysis\n",
    "\n",
    "In this notebook I explore earthquake data from the [USGS website](https://earthquake.usgs.gov/earthquakes/search/) in response to the [series of earthquakes](https://twitter.com/snowjake/status/966139333093675008) in the Diablo, CA area in February 2018.\n",
    "\n",
    "`query3.csv` was pulled at 9:35pm PT on Tuesday, February 27, and includes data for all earthquakes since 1975 within the following coordinates (it's a box surrounding Diablo, CA):\n",
    "\n",
    ">Rectange:\n",
    "\n",
    ">    [37.809, 37.868] Latitude\n",
    "\n",
    ">    [-122.003, -121.922] Longitude"
   ]
  },
  {
   "cell_type": "code",
   "execution_count": 1,
   "metadata": {},
   "outputs": [],
   "source": [
    "import pandas as pd\n",
    "import matplotlib.pyplot as plt\n",
    "import numpy as np\n",
    "from calendar import monthrange, month_name\n",
    "\n",
    "df=pd.read_csv(\"query3.csv\")"
   ]
  },
  {
   "cell_type": "code",
   "execution_count": 2,
   "metadata": {},
   "outputs": [],
   "source": [
    "# Convert time to datetime format\n",
    "df[\"time\"] = df[\"time\"].astype(\"datetime64[ns]\")"
   ]
  },
  {
   "cell_type": "code",
   "execution_count": 3,
   "metadata": {},
   "outputs": [],
   "source": [
    "# Make array for histogram of years\n",
    "years_histo = df[\"time\"].dt.year.value_counts(normalize=False, sort=False)"
   ]
  },
  {
   "cell_type": "code",
   "execution_count": 4,
   "metadata": {},
   "outputs": [],
   "source": [
    "# Add columns to dataframe to allow further analysis\n",
    "\n",
    "df[\"year\"] = df[\"time\"].dt.year\n",
    "df[\"month\"] = df[\"time\"].dt.month\n",
    "df[\"day\"] = df[\"time\"].dt.day\n",
    "df[\"hour\"] = df[\"time\"].dt.hour\n",
    "df[\"monthyear\"] = df[\"time\"].dt.strftime(\"%Y%m\")"
   ]
  },
  {
   "cell_type": "code",
   "execution_count": 5,
   "metadata": {},
   "outputs": [
    {
     "data": {
      "text/html": [
       "<div>\n",
       "<style scoped>\n",
       "    .dataframe tbody tr th:only-of-type {\n",
       "        vertical-align: middle;\n",
       "    }\n",
       "\n",
       "    .dataframe tbody tr th {\n",
       "        vertical-align: top;\n",
       "    }\n",
       "\n",
       "    .dataframe thead th {\n",
       "        text-align: right;\n",
       "    }\n",
       "</style>\n",
       "<table border=\"1\" class=\"dataframe\">\n",
       "  <thead>\n",
       "    <tr style=\"text-align: right;\">\n",
       "      <th></th>\n",
       "      <th>time</th>\n",
       "      <th>latitude</th>\n",
       "      <th>longitude</th>\n",
       "      <th>depth</th>\n",
       "      <th>mag</th>\n",
       "      <th>magType</th>\n",
       "      <th>nst</th>\n",
       "      <th>gap</th>\n",
       "      <th>dmin</th>\n",
       "      <th>rms</th>\n",
       "      <th>...</th>\n",
       "      <th>magError</th>\n",
       "      <th>magNst</th>\n",
       "      <th>status</th>\n",
       "      <th>locationSource</th>\n",
       "      <th>magSource</th>\n",
       "      <th>year</th>\n",
       "      <th>month</th>\n",
       "      <th>day</th>\n",
       "      <th>hour</th>\n",
       "      <th>monthyear</th>\n",
       "    </tr>\n",
       "  </thead>\n",
       "  <tbody>\n",
       "    <tr>\n",
       "      <th>0</th>\n",
       "      <td>2018-02-27 23:10:31.840</td>\n",
       "      <td>37.836500</td>\n",
       "      <td>-121.983333</td>\n",
       "      <td>6.18</td>\n",
       "      <td>2.02</td>\n",
       "      <td>md</td>\n",
       "      <td>57</td>\n",
       "      <td>54</td>\n",
       "      <td>0.02706</td>\n",
       "      <td>0.11</td>\n",
       "      <td>...</td>\n",
       "      <td>0.190</td>\n",
       "      <td>41</td>\n",
       "      <td>reviewed</td>\n",
       "      <td>nc</td>\n",
       "      <td>nc</td>\n",
       "      <td>2018</td>\n",
       "      <td>2</td>\n",
       "      <td>27</td>\n",
       "      <td>23</td>\n",
       "      <td>201802</td>\n",
       "    </tr>\n",
       "    <tr>\n",
       "      <th>1</th>\n",
       "      <td>2018-02-27 19:41:45.340</td>\n",
       "      <td>37.834667</td>\n",
       "      <td>-121.975000</td>\n",
       "      <td>5.53</td>\n",
       "      <td>1.51</td>\n",
       "      <td>md</td>\n",
       "      <td>19</td>\n",
       "      <td>68</td>\n",
       "      <td>0.02047</td>\n",
       "      <td>0.10</td>\n",
       "      <td>...</td>\n",
       "      <td>0.162</td>\n",
       "      <td>14</td>\n",
       "      <td>reviewed</td>\n",
       "      <td>nc</td>\n",
       "      <td>nc</td>\n",
       "      <td>2018</td>\n",
       "      <td>2</td>\n",
       "      <td>27</td>\n",
       "      <td>19</td>\n",
       "      <td>201802</td>\n",
       "    </tr>\n",
       "    <tr>\n",
       "      <th>2</th>\n",
       "      <td>2018-02-27 02:57:34.480</td>\n",
       "      <td>37.841500</td>\n",
       "      <td>-121.973833</td>\n",
       "      <td>6.22</td>\n",
       "      <td>1.21</td>\n",
       "      <td>md</td>\n",
       "      <td>21</td>\n",
       "      <td>59</td>\n",
       "      <td>0.02042</td>\n",
       "      <td>0.08</td>\n",
       "      <td>...</td>\n",
       "      <td>0.185</td>\n",
       "      <td>14</td>\n",
       "      <td>reviewed</td>\n",
       "      <td>nc</td>\n",
       "      <td>nc</td>\n",
       "      <td>2018</td>\n",
       "      <td>2</td>\n",
       "      <td>27</td>\n",
       "      <td>2</td>\n",
       "      <td>201802</td>\n",
       "    </tr>\n",
       "    <tr>\n",
       "      <th>3</th>\n",
       "      <td>2018-02-27 01:07:03.920</td>\n",
       "      <td>37.832500</td>\n",
       "      <td>-121.979667</td>\n",
       "      <td>6.04</td>\n",
       "      <td>1.34</td>\n",
       "      <td>md</td>\n",
       "      <td>18</td>\n",
       "      <td>69</td>\n",
       "      <td>0.02433</td>\n",
       "      <td>0.07</td>\n",
       "      <td>...</td>\n",
       "      <td>0.150</td>\n",
       "      <td>10</td>\n",
       "      <td>reviewed</td>\n",
       "      <td>nc</td>\n",
       "      <td>nc</td>\n",
       "      <td>2018</td>\n",
       "      <td>2</td>\n",
       "      <td>27</td>\n",
       "      <td>1</td>\n",
       "      <td>201802</td>\n",
       "    </tr>\n",
       "    <tr>\n",
       "      <th>4</th>\n",
       "      <td>2018-02-27 00:26:00.040</td>\n",
       "      <td>37.826000</td>\n",
       "      <td>-121.973500</td>\n",
       "      <td>4.94</td>\n",
       "      <td>1.08</td>\n",
       "      <td>md</td>\n",
       "      <td>16</td>\n",
       "      <td>80</td>\n",
       "      <td>0.02148</td>\n",
       "      <td>0.04</td>\n",
       "      <td>...</td>\n",
       "      <td>0.075</td>\n",
       "      <td>8</td>\n",
       "      <td>reviewed</td>\n",
       "      <td>nc</td>\n",
       "      <td>nc</td>\n",
       "      <td>2018</td>\n",
       "      <td>2</td>\n",
       "      <td>27</td>\n",
       "      <td>0</td>\n",
       "      <td>201802</td>\n",
       "    </tr>\n",
       "  </tbody>\n",
       "</table>\n",
       "<p>5 rows × 27 columns</p>\n",
       "</div>"
      ],
      "text/plain": [
       "                     time   latitude   longitude  depth   mag magType  nst  \\\n",
       "0 2018-02-27 23:10:31.840  37.836500 -121.983333   6.18  2.02      md   57   \n",
       "1 2018-02-27 19:41:45.340  37.834667 -121.975000   5.53  1.51      md   19   \n",
       "2 2018-02-27 02:57:34.480  37.841500 -121.973833   6.22  1.21      md   21   \n",
       "3 2018-02-27 01:07:03.920  37.832500 -121.979667   6.04  1.34      md   18   \n",
       "4 2018-02-27 00:26:00.040  37.826000 -121.973500   4.94  1.08      md   16   \n",
       "\n",
       "   gap     dmin   rms    ...    magError magNst    status locationSource  \\\n",
       "0   54  0.02706  0.11    ...       0.190     41  reviewed             nc   \n",
       "1   68  0.02047  0.10    ...       0.162     14  reviewed             nc   \n",
       "2   59  0.02042  0.08    ...       0.185     14  reviewed             nc   \n",
       "3   69  0.02433  0.07    ...       0.150     10  reviewed             nc   \n",
       "4   80  0.02148  0.04    ...       0.075      8  reviewed             nc   \n",
       "\n",
       "  magSource  year  month  day  hour monthyear  \n",
       "0        nc  2018      2   27    23    201802  \n",
       "1        nc  2018      2   27    19    201802  \n",
       "2        nc  2018      2   27     2    201802  \n",
       "3        nc  2018      2   27     1    201802  \n",
       "4        nc  2018      2   27     0    201802  \n",
       "\n",
       "[5 rows x 27 columns]"
      ]
     },
     "execution_count": 5,
     "metadata": {},
     "output_type": "execute_result"
    }
   ],
   "source": [
    "# The next line sets the number of rows displayed when data is referenced without a limitation (e.g., `head()` or `tail()`)\n",
    "# pd.options.display.max_rows = 500\n",
    "\n",
    "# Confirm that the dataframe is constructed properly\n",
    "df.head()"
   ]
  },
  {
   "cell_type": "code",
   "execution_count": 6,
   "metadata": {},
   "outputs": [],
   "source": [
    "def filter_by_magnitude(df, mag):\n",
    "    \"\"\"\n",
    "    Return dataframe filtered by magnitude (i.e., only including \n",
    "    earthquakes with magnitude greater than mag).\n",
    "    \"\"\"\n",
    "    df_copy = df.copy() # Copy dataframe to avoid adding column to original\n",
    "    df_copy[\"over2.5\"] = [x>mag for x in df[\"mag\"]]\n",
    "    df_filtered = df_copy[(df_copy['over2.5'] == True)]\n",
    "    return df_filtered"
   ]
  },
  {
   "cell_type": "code",
   "execution_count": 7,
   "metadata": {},
   "outputs": [
    {
     "data": {
      "text/html": [
       "<div>\n",
       "<style scoped>\n",
       "    .dataframe tbody tr th:only-of-type {\n",
       "        vertical-align: middle;\n",
       "    }\n",
       "\n",
       "    .dataframe tbody tr th {\n",
       "        vertical-align: top;\n",
       "    }\n",
       "\n",
       "    .dataframe thead th {\n",
       "        text-align: right;\n",
       "    }\n",
       "</style>\n",
       "<table border=\"1\" class=\"dataframe\">\n",
       "  <thead>\n",
       "    <tr style=\"text-align: right;\">\n",
       "      <th></th>\n",
       "      <th>time</th>\n",
       "      <th>latitude</th>\n",
       "      <th>longitude</th>\n",
       "      <th>depth</th>\n",
       "      <th>mag</th>\n",
       "      <th>magType</th>\n",
       "      <th>nst</th>\n",
       "      <th>gap</th>\n",
       "      <th>dmin</th>\n",
       "      <th>rms</th>\n",
       "      <th>...</th>\n",
       "      <th>magNst</th>\n",
       "      <th>status</th>\n",
       "      <th>locationSource</th>\n",
       "      <th>magSource</th>\n",
       "      <th>year</th>\n",
       "      <th>month</th>\n",
       "      <th>day</th>\n",
       "      <th>hour</th>\n",
       "      <th>monthyear</th>\n",
       "      <th>over2.5</th>\n",
       "    </tr>\n",
       "  </thead>\n",
       "  <tbody>\n",
       "    <tr>\n",
       "      <th>16</th>\n",
       "      <td>2018-02-23 20:21:59.300</td>\n",
       "      <td>37.829167</td>\n",
       "      <td>-121.979333</td>\n",
       "      <td>6.79</td>\n",
       "      <td>2.80</td>\n",
       "      <td>md</td>\n",
       "      <td>111</td>\n",
       "      <td>41</td>\n",
       "      <td>0.02242</td>\n",
       "      <td>0.13</td>\n",
       "      <td>...</td>\n",
       "      <td>79</td>\n",
       "      <td>reviewed</td>\n",
       "      <td>nc</td>\n",
       "      <td>nc</td>\n",
       "      <td>2018</td>\n",
       "      <td>2</td>\n",
       "      <td>23</td>\n",
       "      <td>20</td>\n",
       "      <td>201802</td>\n",
       "      <td>True</td>\n",
       "    </tr>\n",
       "    <tr>\n",
       "      <th>17</th>\n",
       "      <td>2018-02-23 20:19:39.660</td>\n",
       "      <td>37.826333</td>\n",
       "      <td>-121.984500</td>\n",
       "      <td>6.16</td>\n",
       "      <td>3.51</td>\n",
       "      <td>mw</td>\n",
       "      <td>137</td>\n",
       "      <td>25</td>\n",
       "      <td>0.01812</td>\n",
       "      <td>0.18</td>\n",
       "      <td>...</td>\n",
       "      <td>3</td>\n",
       "      <td>reviewed</td>\n",
       "      <td>nc</td>\n",
       "      <td>nc</td>\n",
       "      <td>2018</td>\n",
       "      <td>2</td>\n",
       "      <td>23</td>\n",
       "      <td>20</td>\n",
       "      <td>201802</td>\n",
       "      <td>True</td>\n",
       "    </tr>\n",
       "    <tr>\n",
       "      <th>18</th>\n",
       "      <td>2018-02-23 20:19:24.790</td>\n",
       "      <td>37.828500</td>\n",
       "      <td>-121.981833</td>\n",
       "      <td>5.98</td>\n",
       "      <td>3.39</td>\n",
       "      <td>mw</td>\n",
       "      <td>103</td>\n",
       "      <td>40</td>\n",
       "      <td>0.02094</td>\n",
       "      <td>0.16</td>\n",
       "      <td>...</td>\n",
       "      <td>3</td>\n",
       "      <td>reviewed</td>\n",
       "      <td>nc</td>\n",
       "      <td>nc</td>\n",
       "      <td>2018</td>\n",
       "      <td>2</td>\n",
       "      <td>23</td>\n",
       "      <td>20</td>\n",
       "      <td>201802</td>\n",
       "      <td>True</td>\n",
       "    </tr>\n",
       "    <tr>\n",
       "      <th>25</th>\n",
       "      <td>2018-02-23 13:28:40.520</td>\n",
       "      <td>37.825667</td>\n",
       "      <td>-121.979333</td>\n",
       "      <td>6.93</td>\n",
       "      <td>3.31</td>\n",
       "      <td>mw</td>\n",
       "      <td>148</td>\n",
       "      <td>34</td>\n",
       "      <td>0.01943</td>\n",
       "      <td>0.20</td>\n",
       "      <td>...</td>\n",
       "      <td>4</td>\n",
       "      <td>reviewed</td>\n",
       "      <td>nc</td>\n",
       "      <td>nc</td>\n",
       "      <td>2018</td>\n",
       "      <td>2</td>\n",
       "      <td>23</td>\n",
       "      <td>13</td>\n",
       "      <td>201802</td>\n",
       "      <td>True</td>\n",
       "    </tr>\n",
       "    <tr>\n",
       "      <th>30</th>\n",
       "      <td>2018-02-23 11:24:57.300</td>\n",
       "      <td>37.831500</td>\n",
       "      <td>-121.979000</td>\n",
       "      <td>5.95</td>\n",
       "      <td>2.81</td>\n",
       "      <td>md</td>\n",
       "      <td>105</td>\n",
       "      <td>45</td>\n",
       "      <td>0.02396</td>\n",
       "      <td>0.14</td>\n",
       "      <td>...</td>\n",
       "      <td>71</td>\n",
       "      <td>reviewed</td>\n",
       "      <td>nc</td>\n",
       "      <td>nc</td>\n",
       "      <td>2018</td>\n",
       "      <td>2</td>\n",
       "      <td>23</td>\n",
       "      <td>11</td>\n",
       "      <td>201802</td>\n",
       "      <td>True</td>\n",
       "    </tr>\n",
       "  </tbody>\n",
       "</table>\n",
       "<p>5 rows × 28 columns</p>\n",
       "</div>"
      ],
      "text/plain": [
       "                      time   latitude   longitude  depth   mag magType  nst  \\\n",
       "16 2018-02-23 20:21:59.300  37.829167 -121.979333   6.79  2.80      md  111   \n",
       "17 2018-02-23 20:19:39.660  37.826333 -121.984500   6.16  3.51      mw  137   \n",
       "18 2018-02-23 20:19:24.790  37.828500 -121.981833   5.98  3.39      mw  103   \n",
       "25 2018-02-23 13:28:40.520  37.825667 -121.979333   6.93  3.31      mw  148   \n",
       "30 2018-02-23 11:24:57.300  37.831500 -121.979000   5.95  2.81      md  105   \n",
       "\n",
       "    gap     dmin   rms   ...   magNst    status locationSource magSource  \\\n",
       "16   41  0.02242  0.13   ...       79  reviewed             nc        nc   \n",
       "17   25  0.01812  0.18   ...        3  reviewed             nc        nc   \n",
       "18   40  0.02094  0.16   ...        3  reviewed             nc        nc   \n",
       "25   34  0.01943  0.20   ...        4  reviewed             nc        nc   \n",
       "30   45  0.02396  0.14   ...       71  reviewed             nc        nc   \n",
       "\n",
       "    year  month  day  hour  monthyear over2.5  \n",
       "16  2018      2   23    20     201802    True  \n",
       "17  2018      2   23    20     201802    True  \n",
       "18  2018      2   23    20     201802    True  \n",
       "25  2018      2   23    13     201802    True  \n",
       "30  2018      2   23    11     201802    True  \n",
       "\n",
       "[5 rows x 28 columns]"
      ]
     },
     "execution_count": 7,
     "metadata": {},
     "output_type": "execute_result"
    }
   ],
   "source": [
    "df_bigger = filter_by_magnitude(df, 2.5)\n",
    "df_bigger.head()"
   ]
  },
  {
   "cell_type": "markdown",
   "metadata": {},
   "source": [
    "# Functions\n",
    "\n",
    "Let's load some functions so we can dig into the data. We want these to operate on the earthquake dataframes so we can apply them to filtered or expanded data sets."
   ]
  },
  {
   "cell_type": "code",
   "execution_count": 8,
   "metadata": {},
   "outputs": [],
   "source": [
    "def count_monthyear(df):\n",
    "    \"\"\"Return array of earthquake counts by month and year for input dataframe.\"\"\"\n",
    "    histo = df[\"time\"].groupby([df[\"year\"], df[\"month\"]]).agg(\"count\")\n",
    "    return histo"
   ]
  },
  {
   "cell_type": "code",
   "execution_count": 9,
   "metadata": {},
   "outputs": [],
   "source": [
    "def np_to_tuples(count_array, final_length):\n",
    "    \"\"\"Returns a list of tuples of lenth final_length with zeros filled in where no corresponding\n",
    "    entry exists in the input array.\"\"\"\n",
    "    day_list = []\n",
    "    for i in range(1,final_length+1):\n",
    "        day_list.append((i,0))\n",
    "        for index,x in np.ndenumerate(count_array.index):\n",
    "            if i == x:\n",
    "                day_list[-1] = (i,count_array.data[index[0]])\n",
    "                break\n",
    "    return day_list"
   ]
  },
  {
   "cell_type": "code",
   "execution_count": 10,
   "metadata": {},
   "outputs": [],
   "source": [
    "def plot_all_months(df):\n",
    "    \"\"\"\n",
    "    Display a histogram plot of earthquakes per month for each month in the input dataframe.\n",
    "    Note that months with zero earthquakes are omitted, so the x axis should not be considered\n",
    "    a scale measure of time.\n",
    "    \"\"\"\n",
    "    plt.figure(num=None, figsize=(11, 5), dpi=80, facecolor='w', edgecolor='k')\n",
    "    plt.title(\"Diablo, CA earthquakes since 1975 by month\")\n",
    "    n = 12\n",
    "    ax_month = df.plot(kind='bar', rot=60, position=0.5, width=.85)\n",
    "    ticks = ax_month.xaxis.get_ticklocs()\n",
    "    ticklabels = [l.get_text() for l in ax_month.xaxis.get_ticklabels()]\n",
    "    ax_month.xaxis.set_ticks(ticks[::n])\n",
    "    ax_month.xaxis.set_ticklabels(ticklabels[::n])\n",
    "    plt.tight_layout()\n",
    "    plt.savefig(\"all_diablo_quakes_by_month.png\")"
   ]
  },
  {
   "cell_type": "code",
   "execution_count": 11,
   "metadata": {},
   "outputs": [],
   "source": [
    "def plot_hourly(df):\n",
    "    \"\"\"Display a histogram plot of earthquakes per by hour of the day in the input dataframe.\"\"\"\n",
    "    hourly = df[\"time\"].groupby(df[\"hour\"]).agg(\"count\")\n",
    "    hourly.plot(kind='bar')\n",
    "    plt.title(\"Diablo, CA Earthquakes by hour\")"
   ]
  },
  {
   "cell_type": "code",
   "execution_count": 12,
   "metadata": {},
   "outputs": [],
   "source": [
    "def month_by_day(df, month, year):\n",
    "    \"\"\"Return a filtered dataframe including only earthquakes in a given month and year.\"\"\"\n",
    "    filtered = df[(df.monthyear == str(year)+str(month).zfill(2))]\n",
    "    by_day = filtered[\"time\"].groupby(filtered[\"day\"]).agg(\"count\")\n",
    "    days_in_month = monthrange(year, month)[1]\n",
    "    day_data = np_to_tuples(by_day,days_in_month)\n",
    "    month_df = pd.DataFrame(day_data, columns=('Day', 'Quakes'))\n",
    "    return month_df"
   ]
  },
  {
   "cell_type": "code",
   "execution_count": 13,
   "metadata": {},
   "outputs": [],
   "source": [
    "def plot_month(df, month, year):\n",
    "    \"\"\"Display a histogram plot of earthquakes in the given month and year of the input dataframe.\"\"\"\n",
    "    plt.title(f'Diablo, CA Earthquakes in {month_name[month]} {year} by day')\n",
    "    # plt.savefig(\"diablo_quakes_April_1990.png\")\n",
    "    new_df = month_by_day(df,month,year)\n",
    "    days_in_month = monthrange(year, month)[1]\n",
    "    ax = new_df.Quakes.plot(x='Day', kind='bar', rot=0, figsize=(8,5))\n",
    "    ax.set_xticklabels(new_df.Day)"
   ]
  },
  {
   "cell_type": "code",
   "execution_count": 14,
   "metadata": {},
   "outputs": [],
   "source": [
    "def plot_all_years(df):\n",
    "    \"\"\"Display a histogram plot of earthquakes per year for each year in the input dataframe.\"\"\"\n",
    "    plt.figure(num=None, figsize=(10, 4), dpi=80, facecolor='w', edgecolor='k')\n",
    "    plt.title(\"Diablo, CA Earthquakes per year\")\n",
    "    # plt.set_color_cycle(['blue'])\n",
    "    years_histo.plot(kind='bar')\n",
    "    plt.tight_layout()\n",
    "    plt.savefig(\"diablo_quakes_by_year.png\")"
   ]
  },
  {
   "cell_type": "code",
   "execution_count": 15,
   "metadata": {},
   "outputs": [],
   "source": [
    "def year_by_month(df, year):\n",
    "    \"\"\"Return a filtered dataframe including only earthquakes in a given year.\"\"\"\n",
    "    filtered = df[(df.year == year)]\n",
    "    by_month = filtered[\"time\"].groupby(filtered[\"month\"]).agg(\"count\")\n",
    "    month_data = np_to_tuples(by_month,12)\n",
    "    year_df = pd.DataFrame(month_data, columns=('Month', 'Quakes'))\n",
    "    return year_df"
   ]
  },
  {
   "cell_type": "code",
   "execution_count": 16,
   "metadata": {},
   "outputs": [],
   "source": [
    "def plot_year(df, year):\n",
    "    \"\"\"Display a histogram plot of earthquakes in the given year of the input dataframe.\"\"\"\n",
    "    plt.title(f'Diablo, CA earthquakes in {year} by month')\n",
    "    # plt.savefig(\"diablo_quakes_April_1990.png\")\n",
    "    new_df = year_by_month(df, year)\n",
    "    new_df['Monthname'] = [month_name[month] for month in new_df.Month]\n",
    "    ax = new_df.Quakes.plot(kind='bar', rot=45, figsize=(8,5))\n",
    "    ax.set_xticklabels(new_df.Monthname)"
   ]
  },
  {
   "cell_type": "markdown",
   "metadata": {},
   "source": [
    "# Results\n",
    "\n",
    "Ok! Let's look at some charts.  First, to get a sense of the earthquake activity over time, let's see how many quakes there have been each year since 1975."
   ]
  },
  {
   "cell_type": "code",
   "execution_count": 17,
   "metadata": {},
   "outputs": [
    {
     "data": {
      "image/png": "[encoded data removed]",
      "text/plain": [
       "<matplotlib.figure.Figure at 0x109767e10>"
      ]
     },
     "metadata": {},
     "output_type": "display_data"
    }
   ],
   "source": [
    "plot_all_years(years_histo)"
   ]
  },
  {
   "cell_type": "markdown",
   "metadata": {},
   "source": [
    "What about if we break it out even further, to see how many quakes there have been each month (with at least one quake) since 1975."
   ]
  },
  {
   "cell_type": "code",
   "execution_count": 18,
   "metadata": {},
   "outputs": [
    {
     "data": {
      "image/png": "[encoded data removed]",
      "text/plain": [
       "<matplotlib.figure.Figure at 0x10e774128>"
      ]
     },
     "metadata": {},
     "output_type": "display_data"
    }
   ],
   "source": [
    "plot_all_months(count_monthyear(df))"
   ]
  },
  {
   "cell_type": "markdown",
   "metadata": {},
   "source": [
    "That's interesting!  It looks like annual spikes are largely the result of spikes in a particular (or couple) of months.\n",
    "\n",
    "Do earthquakes happen more often at particular times of day (in Diablo CA)?  Let's find out."
   ]
  },
  {
   "cell_type": "code",
   "execution_count": 19,
   "metadata": {},
   "outputs": [
    {
     "data": {
      "image/png": "[encoded data removed]",
      "text/plain": [
       "<matplotlib.figure.Figure at 0x10e9be940>"
      ]
     },
     "metadata": {},
     "output_type": "display_data"
    }
   ],
   "source": [
    "plot_hourly(df)"
   ]
  },
  {
   "cell_type": "markdown",
   "metadata": {},
   "source": [
    "I guess they do?  9:00am is twice as common as 8:00pm, it appears.  \n",
    "\n",
    "Let's drill down into a particular year and look at each month in that year. 1990 is a fun year."
   ]
  },
  {
   "cell_type": "code",
   "execution_count": 28,
   "metadata": {},
   "outputs": [
    {
     "data": {
      "image/png": "[encoded data removed]",
      "text/plain": [
       "<matplotlib.figure.Figure at 0x10f631860>"
      ]
     },
     "metadata": {},
     "output_type": "display_data"
    }
   ],
   "source": [
    "plot_year(df,2016)"
   ]
  },
  {
   "cell_type": "markdown",
   "metadata": {},
   "source": [
    "And we can also look at a particular month to see earthquake activity per day.  Obviously we're looking at April 1990 and also February 2018."
   ]
  },
  {
   "cell_type": "code",
   "execution_count": 21,
   "metadata": {},
   "outputs": [
    {
     "data": {
      "image/png": "[encoded data removed]",
      "text/plain": [
       "<matplotlib.figure.Figure at 0x10ed9aeb8>"
      ]
     },
     "metadata": {},
     "output_type": "display_data"
    }
   ],
   "source": [
    "plot_month(df,4,1990)"
   ]
  },
  {
   "cell_type": "code",
   "execution_count": 22,
   "metadata": {},
   "outputs": [
    {
     "data": {
      "image/png": "[encoded data removed]",
      "text/plain": [
       "<matplotlib.figure.Figure at 0x10f23e390>"
      ]
     },
     "metadata": {},
     "output_type": "display_data"
    }
   ],
   "source": [
    "plot_month(df,2,2018)"
   ]
  },
  {
   "cell_type": "markdown",
   "metadata": {},
   "source": [
    "Finally, let's look at the distribution of all the quakes by magnitude."
   ]
  },
  {
   "cell_type": "code",
   "execution_count": 26,
   "metadata": {},
   "outputs": [
    {
     "data": {
      "text/plain": [
       "<matplotlib.axes._subplots.AxesSubplot at 0x10f4ea3c8>"
      ]
     },
     "execution_count": 26,
     "metadata": {},
     "output_type": "execute_result"
    },
    {
     "data": {
      "image/png": "[encoded data removed]",
      "text/plain": [
       "<matplotlib.figure.Figure at 0x10f5963c8>"
      ]
     },
     "metadata": {},
     "output_type": "display_data"
    }
   ],
   "source": [
    "df.mag.plot(kind=\"hist\", bins=25)"
   ]
  },
  {
   "cell_type": "code",
   "execution_count": null,
   "metadata": {},
   "outputs": [],
   "source": []
  }
 ],
 "metadata": {
  "kernelspec": {
   "display_name": "Python 3",
   "language": "python",
   "name": "python3"
  },
  "language_info": {
   "codemirror_mode": {
    "name": "ipython",
    "version": 3
   },
   "file_extension": ".py",
   "mimetype": "text/x-python",
   "name": "python",
   "nbconvert_exporter": "python",
   "pygments_lexer": "ipython3",
   "version": "3.6.4"
  }
 },
 "nbformat": 4,
 "nbformat_minor": 2
}
